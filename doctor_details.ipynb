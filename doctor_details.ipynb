{
 "cells": [
  {
   "cell_type": "code",
   "execution_count": 1,
   "metadata": {},
   "outputs": [],
   "source": [
    "import pandas as pd\n",
    "import requests\n",
    "from bs4 import BeautifulSoup"
   ]
  },
  {
   "cell_type": "code",
   "execution_count": 39,
   "metadata": {},
   "outputs": [],
   "source": [
    "res = requests.get('https://www.mahkotamedical.com/find-a-doctor/')\n",
    "soup = BeautifulSoup(res.text,'lxml')"
   ]
  },
  {
   "cell_type": "code",
   "execution_count": 40,
   "metadata": {},
   "outputs": [
    {
     "data": {
      "text/plain": [
       "8"
      ]
     },
     "execution_count": 40,
     "metadata": {},
     "output_type": "execute_result"
    }
   ],
   "source": [
    "docs = soup.select('.pt-cv-pagination')\n",
    "# pages = docs[0].find('ul',{'class':'.pt-cv-pagination .pt-cv-ajax .pagination'})['data-totalpages']\n",
    "pages = int(docs[0]['data-totalpages'])\n",
    "pages"
   ]
  },
  {
   "cell_type": "code",
   "execution_count": 44,
   "metadata": {},
   "outputs": [],
   "source": [
    "all_content = BeautifulSoup()\n",
    "for i in range(1,9):\n",
    "    new_res = requests.get('https://www.mahkotamedical.com/find-a-doctor/?_page='+str(i))\n",
    "    all_content.append(BeautifulSoup(new_res.text,'lxml'))"
   ]
  },
  {
   "cell_type": "code",
   "execution_count": 69,
   "metadata": {},
   "outputs": [],
   "source": [
    "fil = all_content.select('.pt-cv-href-thumbnail')\n",
    "links_to_doc = [i['href'] for i in fil] "
   ]
  },
  {
   "cell_type": "code",
   "execution_count": 155,
   "metadata": {},
   "outputs": [],
   "source": [
    "def get_result(links):\n",
    "    name,spe,qual,email,avail,lang = [],[],[],[],[],[]\n",
    "    for each in links:\n",
    "        details = requests.get(each)\n",
    "        content = BeautifulSoup(details.text,'lxml')\n",
    "        name.append(content.select('.doctor_title')[0].text)\n",
    "        spe.append(content.select('.speciality_field')[0].text)\n",
    "        education = content.select('.field_5c0656ee71864')[0].findAll('p')\n",
    "        edu = [i.text for i in education]\n",
    "        qual.append(edu)\n",
    "        time = content.select('.field_5c06565e7185d')[0].text.split('\\n\\r\\n')\n",
    "        time = [i.replace('\\r\\n',' ') for i in time]\n",
    "        avail.append(time)\n",
    "        lang.append(content.select('.field_5c32b9ee273d5')[0].text.split(','))\n",
    "    df = pd.DataFrame({\n",
    "        'Name':name,\n",
    "        'Specialization':spe,\n",
    "        'Qualification':qual,\n",
    "        'Availability':avail,\n",
    "        'Languages':lang\n",
    "    })\n",
    "    return df"
   ]
  },
  {
   "cell_type": "code",
   "execution_count": 150,
   "metadata": {},
   "outputs": [
    {
     "data": {
      "text/plain": [
       "['English', ' Bahasa Melayu', ' Bahasa Indonesia']"
      ]
     },
     "execution_count": 150,
     "metadata": {},
     "output_type": "execute_result"
    }
   ],
   "source": [
    "one = links_to_doc[0]\n",
    "details = requests.get(one)\n",
    "content = BeautifulSoup(details.text,'lxml')\n",
    "doc_name = content.select('.doctor_title')[0].text\n",
    "speciality = content.select('.speciality_field')[0].text\n",
    "education = content.select('.field_5c0656ee71864')[0].findAll('p')\n",
    "edu = [i.text for i in education]\n",
    "mail = content.select('a')\n",
    "time = content.select('.field_5c06565e7185d')[0].text.split('\\n\\r\\n')\n",
    "time = [i.replace('\\r\\n',' ') for i in time]\n",
    "languages = content.select('.field_5c32b9ee273d5')[0].text.split(',')\n",
    "languages"
   ]
  },
  {
   "cell_type": "code",
   "execution_count": 157,
   "metadata": {},
   "outputs": [],
   "source": [
    "df = get_result(links_to_doc)\n",
    "df.to_json('Doctor_Details.json')"
   ]
  },
  {
   "cell_type": "code",
   "execution_count": 158,
   "metadata": {},
   "outputs": [],
   "source": [
    "df.to_json('Details.json',orient='index')"
   ]
  }
 ],
 "metadata": {
  "kernelspec": {
   "display_name": "Python 3",
   "language": "python",
   "name": "python3"
  },
  "language_info": {
   "codemirror_mode": {
    "name": "ipython",
    "version": 3
   },
   "file_extension": ".py",
   "mimetype": "text/x-python",
   "name": "python",
   "nbconvert_exporter": "python",
   "pygments_lexer": "ipython3",
   "version": "3.7.1"
  }
 },
 "nbformat": 4,
 "nbformat_minor": 2
}
